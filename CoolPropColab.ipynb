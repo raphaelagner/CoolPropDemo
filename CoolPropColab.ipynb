{
  "nbformat": 4,
  "nbformat_minor": 0,
  "metadata": {
    "colab": {
      "provenance": []
    },
    "kernelspec": {
      "name": "python3",
      "display_name": "Python 3"
    },
    "language_info": {
      "name": "python"
    }
  },
  "cells": [
    {
      "cell_type": "code",
      "execution_count": null,
      "metadata": {
        "colab": {
          "base_uri": "https://localhost:8080/"
        },
        "id": "n6S_Yf0vx4Fn",
        "outputId": "93c28c80-d930-4433-ca04-d88642380bb0"
      },
      "outputs": [
        {
          "output_type": "stream",
          "name": "stdout",
          "text": [
            "Looking in indexes: https://pypi.org/simple, https://us-python.pkg.dev/colab-wheels/public/simple/\n",
            "Requirement already satisfied: CoolProp in /usr/local/lib/python3.10/dist-packages (6.4.3.post1)\n"
          ]
        }
      ],
      "source": [
        "!pip install CoolProp\n",
        "import CoolProp.CoolProp as CP"
      ]
    },
    {
      "cell_type": "code",
      "source": [],
      "metadata": {
        "id": "Nx1Fh27NyYJD"
      },
      "execution_count": null,
      "outputs": []
    },
    {
      "cell_type": "code",
      "source": [
        "h=CP.PropsSI('H','P',2e5,'Q',1,'R134A')"
      ],
      "metadata": {
        "id": "RTCbb4Dex6Of"
      },
      "execution_count": null,
      "outputs": []
    },
    {
      "cell_type": "code",
      "source": [
        "h/1000"
      ],
      "metadata": {
        "colab": {
          "base_uri": "https://localhost:8080/"
        },
        "id": "sD1XbUhrySk9",
        "outputId": "b2a3916c-a49b-48f8-98ab-43cabc38609d"
      },
      "execution_count": null,
      "outputs": [
        {
          "output_type": "execute_result",
          "data": {
            "text/plain": [
              "392.6188955357572"
            ]
          },
          "metadata": {},
          "execution_count": 9
        }
      ]
    }
  ]
}